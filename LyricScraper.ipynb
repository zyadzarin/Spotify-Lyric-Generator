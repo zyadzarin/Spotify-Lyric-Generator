{
 "cells": [
  {
   "cell_type": "code",
   "execution_count": 3,
   "metadata": {},
   "outputs": [],
   "source": [
    "GENIUS_API_TOKEN = \"xjsAbJo93Z6B9W7tLL7WVKICkPJB8roxefG6jSlzFEOh2zM1pFVG6Sy2Yz6QZa07\"\n",
    "import requests\n",
    "from bs4 import BeautifulSoup\n",
    "import os\n",
    "import re\n",
    "import pandas as pd"
   ]
  },
  {
   "cell_type": "code",
   "execution_count": 4,
   "metadata": {},
   "outputs": [],
   "source": [
    "# get artist object from Genius API\n",
    "def request_artist_info(artist_name, page):\n",
    "    base_url = 'https://api.genius.com'\n",
    "    headers = {'Authorization': 'Bearer ' + GENIUS_API_TOKEN}\n",
    "    search_url = base_url + '/search?per_page=10&page=' + str(page)\n",
    "    data = {'q': artist_name}\n",
    "    response = requests.get(search_url, data=data, headers=headers)\n",
    "    return response\n",
    "\n",
    "# get Genius.com song url's from artist object\n",
    "def request_song_info(artist_name, song_cap):\n",
    "    page = 1\n",
    "    songs = []\n",
    "    \n",
    "    while True:\n",
    "        response = request_artist_info(artist_name, page)\n",
    "        json = response.json()        # Collect up to song_cap song objects from artist\n",
    "        song_info = []\n",
    "        for hit in json['response']['hits']:\n",
    "            if artist_name.lower() in hit['result']['primary_artist']['name'].lower():\n",
    "                song_info.append(hit)\n",
    "    \n",
    "        # Collect song URL's from song objects\n",
    "        for song in song_info:\n",
    "            if (len(songs) < song_cap):\n",
    "                url = song['result']['url']\n",
    "                song_artist = song['result']['primary_artist']['name']\n",
    "                song_title = song['result']['title']\n",
    "                songs.append([song_title, song_artist, url])\n",
    "            \n",
    "        if (len(songs) == song_cap):\n",
    "            break\n",
    "        else:\n",
    "            page += 1\n",
    "        \n",
    "    print('Found {} songs by {}'.format(len(songs), artist_name))\n",
    "    return songs #2d list"
   ]
  },
  {
   "cell_type": "code",
   "execution_count": 5,
   "metadata": {},
   "outputs": [],
   "source": [
    "def get_text(elements):\n",
    "    text = ''\n",
    "    for c in elements:\n",
    "        for t in c.select('a, span'):\n",
    "            t.unwrap()\n",
    "        if c:\n",
    "            c.smooth()\n",
    "            text += c.get_text(strip=True, separator='\\n')\n",
    "    return text\n",
    "\n",
    "# Get song lyrics based on url\n",
    "def scrape_song_lyrics(url):\n",
    "    text = ''\n",
    "    soup = BeautifulSoup(requests.get(url).content, 'html')\n",
    "    \n",
    "    cs = soup.select('div[class^=\"Lyrics__Container\"]')\n",
    "    if cs:\n",
    "        text = get_text(cs)\n",
    "    else:\n",
    "        text = get_text(soup.select('.lyrics'))\n",
    "    return text"
   ]
  },
  {
   "cell_type": "code",
   "execution_count": 14,
   "metadata": {},
   "outputs": [
    {
     "name": "stdout",
     "output_type": "stream",
     "text": [
      "Found 1 songs by Kanye West\n",
      "Wrote 315 lines to file from 1 songs. Wrote to lyrics/Kanye West.csv\n"
     ]
    }
   ],
   "source": [
    "def write_lyrics_to_file(artist_name, song_count):\n",
    "    #f = open('lyrics/' + artist_name.lower() + '.txt', 'wb')\n",
    "    header = ['Song Title', 'Artist', 'Lyrics']\n",
    "    song_info_list = []\n",
    "    \n",
    "\n",
    "    songs_info = request_song_info(artist_name, song_count)\n",
    "    for info in songs_info:\n",
    "        #put in get song and artist\n",
    "        song_title = info[0]\n",
    "        artist = info[1]\n",
    "        url = info[2]\n",
    "        lyrics = scrape_song_lyrics(url)\n",
    "        song_info_list.append([song_title, artist, lyrics])\n",
    "        \n",
    "        \n",
    "        #lyrics = lyrics.replace('[', '\\n[')\n",
    "        #f.write(lyrics.encode(\"utf8\"))\n",
    "    #f.close()\n",
    "    song_info_df = pd.DataFrame(song_info_list, columns=header)\n",
    "    song_info_df.to_csv('lyrics/{}.csv'.format(artist_name), index=False)\n",
    "\n",
    "    num_lines = sum(1 for line in open('lyrics/' + artist_name.lower() + '.csv', 'rb'))\n",
    "    print('Wrote {} lines to file from {} songs. Wrote to lyrics/{}.csv'.format(num_lines, song_count, artist_name))\n",
    "  \n",
    "# DEMO  \n",
    "#write_lyrics_to_file('Kanye West', 100)"
   ]
  },
  {
   "cell_type": "code",
   "execution_count": 21,
   "metadata": {},
   "outputs": [],
   "source": [
    "df = pd.read_csv(\"artists.csv\")\n",
    "artist_list = df['Artist'].to_list()"
   ]
  },
  {
   "cell_type": "markdown",
   "metadata": {},
   "source": [
    "for artist in artist_list:\n",
    "    \n",
    "\n",
    "    if os.path.exists(f\"lyrics/{artist}.csv\") or artist == 'Tyler the Creator':\n",
    "        continue\n",
    "    else:\n",
    "        print(\"Reading and Saving {} lyrics\".format(artist))\n",
    "        write_lyrics_to_file(artist, 100)\n",
    "    print(\"\")"
   ]
  }
 ],
 "metadata": {
  "kernelspec": {
   "display_name": "venv",
   "language": "python",
   "name": "python3"
  },
  "language_info": {
   "codemirror_mode": {
    "name": "ipython",
    "version": 3
   },
   "file_extension": ".py",
   "mimetype": "text/x-python",
   "name": "python",
   "nbconvert_exporter": "python",
   "pygments_lexer": "ipython3",
   "version": "3.9.6"
  },
  "orig_nbformat": 4
 },
 "nbformat": 4,
 "nbformat_minor": 2
}
